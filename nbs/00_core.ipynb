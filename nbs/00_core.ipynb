{
 "cells": [
  {
   "cell_type": "markdown",
   "metadata": {},
   "source": [
    "# core\n",
    "\n",
    "> Utility class for working with TEI files."
   ]
  },
  {
   "cell_type": "code",
   "execution_count": 85,
   "metadata": {},
   "outputs": [],
   "source": [
    "#| default_exp core"
   ]
  },
  {
   "cell_type": "code",
   "execution_count": 86,
   "metadata": {},
   "outputs": [],
   "source": [
    "#| hide\n",
    "from nbdev.showdoc import *"
   ]
  },
  {
   "cell_type": "code",
   "execution_count": 87,
   "metadata": {},
   "outputs": [],
   "source": [
    "#| export\n",
    "from bs4 import BeautifulSoup\n",
    "from collections import defaultdict\n",
    "import pandas as pd\n",
    "import urllib.request\n",
    "import os\n",
    "from typing import Dict"
   ]
  },
  {
   "cell_type": "code",
   "execution_count": 88,
   "metadata": {},
   "outputs": [],
   "source": [
    "#| export\n",
    "class TeiUtils:\n",
    "    \"\"\" Utility class for working with TEI files. \"\"\"\n",
    "\n",
    "    def __init__(self):\n",
    "        self.tag_counts = defaultdict(int)\n",
    "        self.df = None\n",
    "        self.df_tag = None\n",
    "\n",
    "    def download(self, url: str, path: str) -> None:\n",
    "        \"\"\" Download a file from a specified URL to a local path.\n",
    "        \n",
    "        Args:\n",
    "            url: The URL from which to download the file.\n",
    "            path: The local file path to save the downloaded file.\n",
    "        \"\"\"\n",
    "        os.makedirs(os.path.dirname(path), exist_ok=True)\n",
    "        urllib.request.urlretrieve(url, path)\n",
    "\n",
    "    def get_tag_freq(self, path: str) -> None:\n",
    "        \"\"\" Read an XML file from a specified path and count the frequency of each tag.\n",
    "        \n",
    "        The frequencies are stored in an attribute `tag_counts`.\n",
    "        A sorted DataFrame of tags and counts is stored in `df` and `df_tag`.\n",
    "        \n",
    "        Args:\n",
    "            path: The file path of the XML file to parse.\n",
    "        \"\"\"\n",
    "        with open(path, \"r\") as f:\n",
    "            xml = f.read()\n",
    "\n",
    "        soup = BeautifulSoup(xml, 'lxml-xml')\n",
    "\n",
    "        for tag in soup.find_all(True):\n",
    "            self.tag_counts[tag.name] += 1\n",
    "\n",
    "        self.df = pd.DataFrame(list(self.tag_counts.items()), columns=[\"Tag\", \"Count\"])\n",
    "        self.df.sort_values(by=\"Count\", ascending=False, inplace=True)\n",
    "\n",
    "        self.df_tag = self.df.sort_values(by=\"Tag\", ascending=True)\n",
    "\n",
    "    def get_javascript(self) -> None:\n",
    "        \"\"\" Generate JavaScript code to check checkboxes in the TEI tag list. \"\"\"\n",
    "\n",
    "        tags = []\n",
    "\n",
    "        for i, row in self.df_tag.iterrows():\n",
    "            tags.append(f\"\\\"{row['Tag']}\\\"\")\n",
    "\n",
    "        javascript_code = f\"\"\"\n",
    "function checkCheckboxesWithTextValues(textValues) {{\n",
    "    // 存在しなかった要素名を格納する配列\n",
    "    let notFound = [];\n",
    "\n",
    "    // 指定されたテキスト値のリストをループ処理\n",
    "    textValues.forEach(function(textToMatch) {{\n",
    "        // テキストに一致する .mdc-list-item__primary-text 要素を取得\n",
    "        let found = false;\n",
    "        document.querySelectorAll('.mdc-list-item__primary-text').forEach(function(item) {{\n",
    "            if (item.textContent.trim() === textToMatch) {{\n",
    "                found = true;\n",
    "                let checkbox = item.closest('.mdc-list-item').querySelector('.mdc-checkbox__native-control');\n",
    "                if (checkbox) {{\n",
    "                    checkbox.checked = true;\n",
    "                }}\n",
    "            }}\n",
    "        }});\n",
    "\n",
    "        // 要素が見つからなければ notFound 配列に追加\n",
    "        if (!found) {{\n",
    "            notFound.push(textToMatch);\n",
    "        }}\n",
    "    }});\n",
    "\n",
    "    // 存在しなかった要素名を返す\n",
    "    return notFound;\n",
    "}}\n",
    "\n",
    "// 指定したいテキスト値のリスト\n",
    "const itemsToCheck = [{\", \".join(tags)}];\n",
    "\n",
    "// チェックしたい項目のリストを関数に渡し、存在しなかった項目を取得\n",
    "const itemsNotFound = checkCheckboxesWithTextValues(itemsToCheck);\n",
    "\n",
    "// 存在しなかった項目をコンソールに出力\n",
    "if (itemsNotFound.length > 0) {{\n",
    "    console.log('These items were not found:', itemsNotFound);\n",
    "}} else {{\n",
    "    console.log('All items were found and checked.');\n",
    "}}\n",
    "\"\"\"\n",
    "\n",
    "        return javascript_code"
   ]
  },
  {
   "cell_type": "code",
   "execution_count": 89,
   "metadata": {},
   "outputs": [
    {
     "data": {
      "text/markdown": [
       "---\n",
       "\n",
       "### TeiUtils.download\n",
       "\n",
       ">      TeiUtils.download (url:str, path:str)\n",
       "\n",
       "Download a file from a specified URL to a local path.\n",
       "\n",
       "Args:\n",
       "    url: The URL from which to download the file.\n",
       "    path: The local file path to save the downloaded file."
      ],
      "text/plain": [
       "---\n",
       "\n",
       "### TeiUtils.download\n",
       "\n",
       ">      TeiUtils.download (url:str, path:str)\n",
       "\n",
       "Download a file from a specified URL to a local path.\n",
       "\n",
       "Args:\n",
       "    url: The URL from which to download the file.\n",
       "    path: The local file path to save the downloaded file."
      ]
     },
     "execution_count": 89,
     "metadata": {},
     "output_type": "execute_result"
    }
   ],
   "source": [
    "show_doc(TeiUtils.download)"
   ]
  },
  {
   "cell_type": "code",
   "execution_count": 90,
   "metadata": {},
   "outputs": [
    {
     "data": {
      "text/markdown": [
       "---\n",
       "\n",
       "### TeiUtils.get_tag_freq\n",
       "\n",
       ">      TeiUtils.get_tag_freq (path:str)\n",
       "\n",
       "Read an XML file from a specified path and count the frequency of each tag.\n",
       "\n",
       "The frequencies are stored in an attribute `tag_counts`.\n",
       "A sorted DataFrame of tags and counts is stored in `df` and `df_tag`.\n",
       "\n",
       "Args:\n",
       "    path: The file path of the XML file to parse."
      ],
      "text/plain": [
       "---\n",
       "\n",
       "### TeiUtils.get_tag_freq\n",
       "\n",
       ">      TeiUtils.get_tag_freq (path:str)\n",
       "\n",
       "Read an XML file from a specified path and count the frequency of each tag.\n",
       "\n",
       "The frequencies are stored in an attribute `tag_counts`.\n",
       "A sorted DataFrame of tags and counts is stored in `df` and `df_tag`.\n",
       "\n",
       "Args:\n",
       "    path: The file path of the XML file to parse."
      ]
     },
     "execution_count": 90,
     "metadata": {},
     "output_type": "execute_result"
    }
   ],
   "source": [
    "show_doc(TeiUtils.get_tag_freq)"
   ]
  },
  {
   "cell_type": "code",
   "execution_count": 92,
   "metadata": {},
   "outputs": [
    {
     "data": {
      "text/markdown": [
       "---\n",
       "\n",
       "### TeiUtils.get_javascript\n",
       "\n",
       ">      TeiUtils.get_javascript ()\n",
       "\n",
       "Print a JavaScript object containing the tag counts."
      ],
      "text/plain": [
       "---\n",
       "\n",
       "### TeiUtils.get_javascript\n",
       "\n",
       ">      TeiUtils.get_javascript ()\n",
       "\n",
       "Print a JavaScript object containing the tag counts."
      ]
     },
     "execution_count": 92,
     "metadata": {},
     "output_type": "execute_result"
    }
   ],
   "source": [
    "show_doc(TeiUtils.get_javascript)"
   ]
  },
  {
   "cell_type": "code",
   "execution_count": 91,
   "metadata": {},
   "outputs": [],
   "source": [
    "#| hide\n",
    "import nbdev; nbdev.nbdev_export()"
   ]
  }
 ],
 "metadata": {
  "kernelspec": {
   "display_name": "python3",
   "language": "python",
   "name": "python3"
  },
  "language_info": {
   "codemirror_mode": {
    "name": "ipython",
    "version": 3
   },
   "file_extension": ".py",
   "mimetype": "text/x-python",
   "name": "python",
   "nbconvert_exporter": "python",
   "pygments_lexer": "ipython3",
   "version": "3.9.11"
  }
 },
 "nbformat": 4,
 "nbformat_minor": 4
}
