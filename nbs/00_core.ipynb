{
 "cells": [
  {
   "cell_type": "markdown",
   "metadata": {},
   "source": [
    "# core\n",
    "\n",
    "> Utility class for working with TEI files."
   ]
  },
  {
   "cell_type": "code",
   "execution_count": 45,
   "metadata": {},
   "outputs": [],
   "source": [
    "#| default_exp core"
   ]
  },
  {
   "cell_type": "code",
   "execution_count": 46,
   "metadata": {},
   "outputs": [],
   "source": [
    "#| hide\n",
    "from nbdev.showdoc import *"
   ]
  },
  {
   "cell_type": "code",
   "execution_count": 47,
   "metadata": {},
   "outputs": [],
   "source": [
    "#| export\n",
    "from bs4 import BeautifulSoup\n",
    "from collections import defaultdict\n",
    "import pandas as pd\n",
    "import urllib.request\n",
    "import os\n",
    "from typing import Dict"
   ]
  },
  {
   "cell_type": "code",
   "execution_count": 48,
   "metadata": {},
   "outputs": [],
   "source": [
    "#| export\n",
    "class TeiUtils:\n",
    "    \"\"\" Utility class for working with TEI files. \"\"\"\n",
    "\n",
    "    def __init__(self):\n",
    "        self.tag_counts = defaultdict(int)\n",
    "        self.df = None\n",
    "        self.df_tag = None\n",
    "\n",
    "    def download(self, url: str, path: str) -> None:\n",
    "        \"\"\" Download a file from a specified URL to a local path.\n",
    "        \n",
    "        Args:\n",
    "            url: The URL from which to download the file.\n",
    "            path: The local file path to save the downloaded file.\n",
    "        \"\"\"\n",
    "        os.makedirs(os.path.dirname(path), exist_ok=True)\n",
    "        urllib.request.urlretrieve(url, path)\n",
    "\n",
    "    def get_tag_freq(self, path: str) -> None:\n",
    "        \"\"\" Read an XML file from a specified path and count the frequency of each tag.\n",
    "        \n",
    "        The frequencies are stored in an attribute `tag_counts`.\n",
    "        A sorted DataFrame of tags and counts is stored in `df` and `df_tag`.\n",
    "        \n",
    "        Args:\n",
    "            path: The file path of the XML file to parse.\n",
    "        \"\"\"\n",
    "        with open(path, \"r\") as f:\n",
    "            xml = f.read()\n",
    "\n",
    "        soup = BeautifulSoup(xml, 'lxml-xml')\n",
    "\n",
    "        for tag in soup.find_all(True):\n",
    "            self.tag_counts[tag.name] += 1\n",
    "\n",
    "        self.df = pd.DataFrame(list(self.tag_counts.items()), columns=[\"Tag\", \"Count\"])\n",
    "        self.df.sort_values(by=\"Count\", ascending=False, inplace=True)\n",
    "\n",
    "        self.df_tag = self.df.sort_values(by=\"Tag\", ascending=True)"
   ]
  },
  {
   "cell_type": "code",
   "execution_count": 49,
   "metadata": {},
   "outputs": [
    {
     "data": {
      "text/markdown": [
       "---\n",
       "\n",
       "### TeiUtils.download\n",
       "\n",
       ">      TeiUtils.download (url:str, path:str)\n",
       "\n",
       "Download a file from a specified URL to a local path.\n",
       "\n",
       "Args:\n",
       "    url: The URL from which to download the file.\n",
       "    path: The local file path to save the downloaded file."
      ],
      "text/plain": [
       "---\n",
       "\n",
       "### TeiUtils.download\n",
       "\n",
       ">      TeiUtils.download (url:str, path:str)\n",
       "\n",
       "Download a file from a specified URL to a local path.\n",
       "\n",
       "Args:\n",
       "    url: The URL from which to download the file.\n",
       "    path: The local file path to save the downloaded file."
      ]
     },
     "execution_count": 49,
     "metadata": {},
     "output_type": "execute_result"
    }
   ],
   "source": [
    "show_doc(TeiUtils.download)"
   ]
  },
  {
   "cell_type": "code",
   "execution_count": 50,
   "metadata": {},
   "outputs": [
    {
     "data": {
      "text/markdown": [
       "---\n",
       "\n",
       "### TeiUtils.get_tag_freq\n",
       "\n",
       ">      TeiUtils.get_tag_freq (path:str)\n",
       "\n",
       "Read an XML file from a specified path and count the frequency of each tag.\n",
       "\n",
       "The frequencies are stored in an attribute `tag_counts`.\n",
       "A sorted DataFrame of tags and counts is stored in `df` and `df_tag`.\n",
       "\n",
       "Args:\n",
       "    path: The file path of the XML file to parse."
      ],
      "text/plain": [
       "---\n",
       "\n",
       "### TeiUtils.get_tag_freq\n",
       "\n",
       ">      TeiUtils.get_tag_freq (path:str)\n",
       "\n",
       "Read an XML file from a specified path and count the frequency of each tag.\n",
       "\n",
       "The frequencies are stored in an attribute `tag_counts`.\n",
       "A sorted DataFrame of tags and counts is stored in `df` and `df_tag`.\n",
       "\n",
       "Args:\n",
       "    path: The file path of the XML file to parse."
      ]
     },
     "execution_count": 50,
     "metadata": {},
     "output_type": "execute_result"
    }
   ],
   "source": [
    "show_doc(TeiUtils.get_tag_freq)"
   ]
  },
  {
   "cell_type": "code",
   "execution_count": 51,
   "metadata": {},
   "outputs": [],
   "source": [
    "#| hide\n",
    "import nbdev; nbdev.nbdev_export()"
   ]
  }
 ],
 "metadata": {
  "kernelspec": {
   "display_name": "python3",
   "language": "python",
   "name": "python3"
  },
  "language_info": {
   "codemirror_mode": {
    "name": "ipython",
    "version": 3
   },
   "file_extension": ".py",
   "mimetype": "text/x-python",
   "name": "python",
   "nbconvert_exporter": "python",
   "pygments_lexer": "ipython3",
   "version": "3.9.11"
  }
 },
 "nbformat": 4,
 "nbformat_minor": 4
}
