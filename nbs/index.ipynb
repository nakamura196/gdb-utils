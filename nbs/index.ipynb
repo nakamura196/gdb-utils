{
 "cells": [
  {
   "cell_type": "code",
   "execution_count": 36,
   "metadata": {},
   "outputs": [
    {
     "name": "stdout",
     "output_type": "stream",
     "text": [
      "The autoreload extension is already loaded. To reload it, use:\n",
      "  %reload_ext autoreload\n"
     ]
    }
   ],
   "source": [
    "#| hide\n",
    "%load_ext autoreload\n",
    "%autoreload 2\n",
    "from gdb_utils.core import *"
   ]
  },
  {
   "cell_type": "markdown",
   "metadata": {},
   "source": [
    "# gdb-utils\n",
    "\n",
    "> "
   ]
  },
  {
   "cell_type": "markdown",
   "metadata": {},
   "source": [
    "TEI/XMLデータを扱う際のツール群です。"
   ]
  },
  {
   "cell_type": "markdown",
   "metadata": {},
   "source": [
    "## Install"
   ]
  },
  {
   "cell_type": "markdown",
   "metadata": {},
   "source": [
    "```sh\n",
    "pip install git+https://github.com/nakamura196/gdb-utils.git\n",
    "from gdb_utils.core import *\n",
    "```"
   ]
  },
  {
   "cell_type": "markdown",
   "metadata": {},
   "source": [
    "## 使い方"
   ]
  },
  {
   "cell_type": "code",
   "execution_count": 37,
   "metadata": {},
   "outputs": [],
   "source": [
    "client = TeiUtils()"
   ]
  },
  {
   "cell_type": "markdown",
   "metadata": {},
   "source": [
    "## ダウンロード"
   ]
  },
  {
   "cell_type": "code",
   "execution_count": 38,
   "metadata": {},
   "outputs": [],
   "source": [
    "url = \"https://utda.github.io/goethe/data/xml/goethe.xml\"\n",
    "path = \"data/goethe.xml\"\n",
    "client.download(url, path)"
   ]
  },
  {
   "cell_type": "markdown",
   "metadata": {},
   "source": [
    "## 分析"
   ]
  },
  {
   "cell_type": "code",
   "execution_count": 39,
   "metadata": {},
   "outputs": [],
   "source": [
    "client.get_tag_freq(path)"
   ]
  },
  {
   "cell_type": "markdown",
   "metadata": {},
   "source": [
    "### 頻度の降順で表示"
   ]
  },
  {
   "cell_type": "code",
   "execution_count": 40,
   "metadata": {},
   "outputs": [
    {
     "data": {
      "text/html": [
       "<div>\n",
       "<style scoped>\n",
       "    .dataframe tbody tr th:only-of-type {\n",
       "        vertical-align: middle;\n",
       "    }\n",
       "\n",
       "    .dataframe tbody tr th {\n",
       "        vertical-align: top;\n",
       "    }\n",
       "\n",
       "    .dataframe thead th {\n",
       "        text-align: right;\n",
       "    }\n",
       "</style>\n",
       "<table border=\"1\" class=\"dataframe\">\n",
       "  <thead>\n",
       "    <tr style=\"text-align: right;\">\n",
       "      <th></th>\n",
       "      <th>Tag</th>\n",
       "      <th>Count</th>\n",
       "    </tr>\n",
       "  </thead>\n",
       "  <tbody>\n",
       "    <tr>\n",
       "      <th>8</th>\n",
       "      <td>persName</td>\n",
       "      <td>15</td>\n",
       "    </tr>\n",
       "    <tr>\n",
       "      <th>55</th>\n",
       "      <td>lb</td>\n",
       "      <td>13</td>\n",
       "    </tr>\n",
       "    <tr>\n",
       "      <th>10</th>\n",
       "      <td>p</td>\n",
       "      <td>9</td>\n",
       "    </tr>\n",
       "    <tr>\n",
       "      <th>50</th>\n",
       "      <td>app</td>\n",
       "      <td>8</td>\n",
       "    </tr>\n",
       "    <tr>\n",
       "      <th>51</th>\n",
       "      <td>lem</td>\n",
       "      <td>8</td>\n",
       "    </tr>\n",
       "    <tr>\n",
       "      <th>...</th>\n",
       "      <td>...</td>\n",
       "      <td>...</td>\n",
       "    </tr>\n",
       "    <tr>\n",
       "      <th>28</th>\n",
       "      <td>width</td>\n",
       "      <td>1</td>\n",
       "    </tr>\n",
       "    <tr>\n",
       "      <th>29</th>\n",
       "      <td>handDesc</td>\n",
       "      <td>1</td>\n",
       "    </tr>\n",
       "    <tr>\n",
       "      <th>1</th>\n",
       "      <td>teiHeader</td>\n",
       "      <td>1</td>\n",
       "    </tr>\n",
       "    <tr>\n",
       "      <th>31</th>\n",
       "      <td>history</td>\n",
       "      <td>1</td>\n",
       "    </tr>\n",
       "    <tr>\n",
       "      <th>30</th>\n",
       "      <td>handNote</td>\n",
       "      <td>1</td>\n",
       "    </tr>\n",
       "  </tbody>\n",
       "</table>\n",
       "<p>61 rows × 2 columns</p>\n",
       "</div>"
      ],
      "text/plain": [
       "          Tag  Count\n",
       "8    persName     15\n",
       "55         lb     13\n",
       "10          p      9\n",
       "50        app      8\n",
       "51        lem      8\n",
       "..        ...    ...\n",
       "28      width      1\n",
       "29   handDesc      1\n",
       "1   teiHeader      1\n",
       "31    history      1\n",
       "30   handNote      1\n",
       "\n",
       "[61 rows x 2 columns]"
      ]
     },
     "execution_count": 40,
     "metadata": {},
     "output_type": "execute_result"
    }
   ],
   "source": [
    "client.df"
   ]
  },
  {
   "cell_type": "markdown",
   "metadata": {},
   "source": [
    "### 名前の昇順で表示"
   ]
  },
  {
   "cell_type": "code",
   "execution_count": 41,
   "metadata": {},
   "outputs": [
    {
     "data": {
      "text/html": [
       "<div>\n",
       "<style scoped>\n",
       "    .dataframe tbody tr th:only-of-type {\n",
       "        vertical-align: middle;\n",
       "    }\n",
       "\n",
       "    .dataframe tbody tr th {\n",
       "        vertical-align: top;\n",
       "    }\n",
       "\n",
       "    .dataframe thead th {\n",
       "        text-align: right;\n",
       "    }\n",
       "</style>\n",
       "<table border=\"1\" class=\"dataframe\">\n",
       "  <thead>\n",
       "    <tr style=\"text-align: right;\">\n",
       "      <th></th>\n",
       "      <th>Tag</th>\n",
       "      <th>Count</th>\n",
       "    </tr>\n",
       "  </thead>\n",
       "  <tbody>\n",
       "    <tr>\n",
       "      <th>0</th>\n",
       "      <td>TEI</td>\n",
       "      <td>1</td>\n",
       "    </tr>\n",
       "    <tr>\n",
       "      <th>18</th>\n",
       "      <td>addrLine</td>\n",
       "      <td>1</td>\n",
       "    </tr>\n",
       "    <tr>\n",
       "      <th>17</th>\n",
       "      <td>address</td>\n",
       "      <td>1</td>\n",
       "    </tr>\n",
       "    <tr>\n",
       "      <th>50</th>\n",
       "      <td>app</td>\n",
       "      <td>8</td>\n",
       "    </tr>\n",
       "    <tr>\n",
       "      <th>5</th>\n",
       "      <td>author</td>\n",
       "      <td>2</td>\n",
       "    </tr>\n",
       "    <tr>\n",
       "      <th>...</th>\n",
       "      <td>...</td>\n",
       "      <td>...</td>\n",
       "    </tr>\n",
       "    <tr>\n",
       "      <th>4</th>\n",
       "      <td>title</td>\n",
       "      <td>7</td>\n",
       "    </tr>\n",
       "    <tr>\n",
       "      <th>3</th>\n",
       "      <td>titleStmt</td>\n",
       "      <td>1</td>\n",
       "    </tr>\n",
       "    <tr>\n",
       "      <th>41</th>\n",
       "      <td>variantEncoding</td>\n",
       "      <td>1</td>\n",
       "    </tr>\n",
       "    <tr>\n",
       "      <th>28</th>\n",
       "      <td>width</td>\n",
       "      <td>1</td>\n",
       "    </tr>\n",
       "    <tr>\n",
       "      <th>13</th>\n",
       "      <td>witness</td>\n",
       "      <td>2</td>\n",
       "    </tr>\n",
       "  </tbody>\n",
       "</table>\n",
       "<p>61 rows × 2 columns</p>\n",
       "</div>"
      ],
      "text/plain": [
       "                Tag  Count\n",
       "0               TEI      1\n",
       "18         addrLine      1\n",
       "17          address      1\n",
       "50              app      8\n",
       "5            author      2\n",
       "..              ...    ...\n",
       "4             title      7\n",
       "3         titleStmt      1\n",
       "41  variantEncoding      1\n",
       "28            width      1\n",
       "13          witness      2\n",
       "\n",
       "[61 rows x 2 columns]"
      ]
     },
     "execution_count": 41,
     "metadata": {},
     "output_type": "execute_result"
    }
   ],
   "source": [
    "client.df_tag"
   ]
  },
  {
   "cell_type": "code",
   "execution_count": 49,
   "metadata": {},
   "outputs": [
    {
     "name": "stdout",
     "output_type": "stream",
     "text": [
      "\n",
      "function checkCheckboxesWithTextValues(textValues) {\n",
      "    // 存在しなかった要素名を格納する配列\n",
      "    let notFound = [];\n",
      "\n",
      "    // 指定されたテキスト値のリストをループ処理\n",
      "    textValues.forEach(function(textToMatch) {\n",
      "        // テキストに一致する .mdc-list-item__primary-text 要素を取得\n",
      "        let found = false;\n",
      "        document.querySelectorAll('.mdc-list-item__primary-text').forEach(function(item) {\n",
      "            if (item.textContent.trim() === textToMatch) {\n",
      "                found = true;\n",
      "                let checkbox = item.closest('.mdc-list-item').querySelector('.mdc-checkbox__native-control');\n",
      "                if (checkbox) {\n",
      "                    checkbox.checked = true;\n",
      "                }\n",
      "            }\n",
      "        });\n",
      "\n",
      "        // 要素が見つからなければ notFound 配列に追加\n",
      "        if (!found) {\n",
      "            notFound.push(textToMatch);\n",
      "        }\n",
      "    });\n",
      "\n",
      "    // 存在しなかった要素名を返す\n",
      "    return notFound;\n",
      "}\n",
      "\n",
      "// 指定したいテキスト値のリスト\n",
      "const itemsToCheck = [\"TEI\", \"addrLine\", \"address\", \"app\", \"author\", \"back\", \"bibl\", \"body\", \"closer\", \"correspAction\", \"correspDesc\", \"country\", \"date\", \"dimensions\", \"district\", \"div\", \"editor\", \"editorialDecl\", \"encodingDesc\", \"extent\", \"fileDesc\", \"handDesc\", \"handNote\", \"height\", \"history\", \"idno\", \"institution\", \"lb\", \"lem\", \"listPerson\", \"listWit\", \"location\", \"msDesc\", \"msIdentifier\", \"objectDesc\", \"opener\", \"origin\", \"p\", \"persName\", \"person\", \"physDesc\", \"placeName\", \"profileDesc\", \"provenance\", \"publicationStmt\", \"publisher\", \"rdg\", \"resp\", \"respStmt\", \"salute\", \"signed\", \"sourceDesc\", \"space\", \"supportDesc\", \"teiHeader\", \"text\", \"title\", \"titleStmt\", \"variantEncoding\", \"width\", \"witness\"];\n",
      "\n",
      "// チェックしたい項目のリストを関数に渡し、存在しなかった項目を取得\n",
      "const itemsNotFound = checkCheckboxesWithTextValues(itemsToCheck);\n",
      "\n",
      "// 存在しなかった項目をコンソールに出力\n",
      "if (itemsNotFound.length > 0) {\n",
      "    console.log('These items were not found:', itemsNotFound);\n",
      "} else {\n",
      "    console.log('All items were found and checked.');\n",
      "}\n",
      "\n"
     ]
    }
   ],
   "source": [
    "print(client.get_javascript())"
   ]
  }
 ],
 "metadata": {
  "kernelspec": {
   "display_name": "python3",
   "language": "python",
   "name": "python3"
  },
  "language_info": {
   "codemirror_mode": {
    "name": "ipython",
    "version": 3
   },
   "file_extension": ".py",
   "mimetype": "text/x-python",
   "name": "python",
   "nbconvert_exporter": "python",
   "pygments_lexer": "ipython3",
   "version": "3.9.11"
  }
 },
 "nbformat": 4,
 "nbformat_minor": 4
}
